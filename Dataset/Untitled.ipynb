{
 "cells": [
  {
   "cell_type": "code",
   "execution_count": 1,
   "id": "4fa10452-c958-4953-a47c-d6a3562b8581",
   "metadata": {},
   "outputs": [],
   "source": [
    "import pandas as pd\n",
    "import numpy as np\n",
    "import matplotlib.pyplot as mlt\n",
    "%matplotlib inline"
   ]
  },
  {
   "cell_type": "code",
   "execution_count": 2,
   "id": "5dfc405f-880c-4f6c-bb5c-32b0df3d1f37",
   "metadata": {},
   "outputs": [],
   "source": [
    "data = pd.read_csv(\"loan_approval_dataset.csv\")"
   ]
  },
  {
   "cell_type": "code",
   "execution_count": 3,
   "id": "83c2fe2b-aa64-4683-99c7-311dae4c82b9",
   "metadata": {},
   "outputs": [
    {
     "data": {
      "text/html": [
       "<div>\n",
       "<style scoped>\n",
       "    .dataframe tbody tr th:only-of-type {\n",
       "        vertical-align: middle;\n",
       "    }\n",
       "\n",
       "    .dataframe tbody tr th {\n",
       "        vertical-align: top;\n",
       "    }\n",
       "\n",
       "    .dataframe thead th {\n",
       "        text-align: right;\n",
       "    }\n",
       "</style>\n",
       "<table border=\"1\" class=\"dataframe\">\n",
       "  <thead>\n",
       "    <tr style=\"text-align: right;\">\n",
       "      <th></th>\n",
       "      <th>loan_id</th>\n",
       "      <th>no_of_dependents</th>\n",
       "      <th>education</th>\n",
       "      <th>self_employed</th>\n",
       "      <th>income_annum</th>\n",
       "      <th>loan_amount</th>\n",
       "      <th>loan_term</th>\n",
       "      <th>cibil_score</th>\n",
       "      <th>residential_assets_value</th>\n",
       "      <th>commercial_assets_value</th>\n",
       "      <th>luxury_assets_value</th>\n",
       "      <th>bank_asset_value</th>\n",
       "      <th>loan_status</th>\n",
       "    </tr>\n",
       "  </thead>\n",
       "  <tbody>\n",
       "    <tr>\n",
       "      <th>0</th>\n",
       "      <td>1</td>\n",
       "      <td>2</td>\n",
       "      <td>Graduate</td>\n",
       "      <td>No</td>\n",
       "      <td>9600000</td>\n",
       "      <td>29900000</td>\n",
       "      <td>12</td>\n",
       "      <td>778</td>\n",
       "      <td>2400000</td>\n",
       "      <td>17600000</td>\n",
       "      <td>22700000</td>\n",
       "      <td>8000000</td>\n",
       "      <td>Approved</td>\n",
       "    </tr>\n",
       "    <tr>\n",
       "      <th>1</th>\n",
       "      <td>2</td>\n",
       "      <td>0</td>\n",
       "      <td>Not Graduate</td>\n",
       "      <td>Yes</td>\n",
       "      <td>4100000</td>\n",
       "      <td>12200000</td>\n",
       "      <td>8</td>\n",
       "      <td>417</td>\n",
       "      <td>2700000</td>\n",
       "      <td>2200000</td>\n",
       "      <td>8800000</td>\n",
       "      <td>3300000</td>\n",
       "      <td>Rejected</td>\n",
       "    </tr>\n",
       "    <tr>\n",
       "      <th>2</th>\n",
       "      <td>3</td>\n",
       "      <td>3</td>\n",
       "      <td>Graduate</td>\n",
       "      <td>No</td>\n",
       "      <td>9100000</td>\n",
       "      <td>29700000</td>\n",
       "      <td>20</td>\n",
       "      <td>506</td>\n",
       "      <td>7100000</td>\n",
       "      <td>4500000</td>\n",
       "      <td>33300000</td>\n",
       "      <td>12800000</td>\n",
       "      <td>Rejected</td>\n",
       "    </tr>\n",
       "    <tr>\n",
       "      <th>3</th>\n",
       "      <td>4</td>\n",
       "      <td>3</td>\n",
       "      <td>Graduate</td>\n",
       "      <td>No</td>\n",
       "      <td>8200000</td>\n",
       "      <td>30700000</td>\n",
       "      <td>8</td>\n",
       "      <td>467</td>\n",
       "      <td>18200000</td>\n",
       "      <td>3300000</td>\n",
       "      <td>23300000</td>\n",
       "      <td>7900000</td>\n",
       "      <td>Rejected</td>\n",
       "    </tr>\n",
       "    <tr>\n",
       "      <th>4</th>\n",
       "      <td>5</td>\n",
       "      <td>5</td>\n",
       "      <td>Not Graduate</td>\n",
       "      <td>Yes</td>\n",
       "      <td>9800000</td>\n",
       "      <td>24200000</td>\n",
       "      <td>20</td>\n",
       "      <td>382</td>\n",
       "      <td>12400000</td>\n",
       "      <td>8200000</td>\n",
       "      <td>29400000</td>\n",
       "      <td>5000000</td>\n",
       "      <td>Rejected</td>\n",
       "    </tr>\n",
       "  </tbody>\n",
       "</table>\n",
       "</div>"
      ],
      "text/plain": [
       "   loan_id   no_of_dependents      education  self_employed   income_annum  \\\n",
       "0        1                  2       Graduate             No        9600000   \n",
       "1        2                  0   Not Graduate            Yes        4100000   \n",
       "2        3                  3       Graduate             No        9100000   \n",
       "3        4                  3       Graduate             No        8200000   \n",
       "4        5                  5   Not Graduate            Yes        9800000   \n",
       "\n",
       "    loan_amount   loan_term   cibil_score   residential_assets_value  \\\n",
       "0      29900000          12           778                    2400000   \n",
       "1      12200000           8           417                    2700000   \n",
       "2      29700000          20           506                    7100000   \n",
       "3      30700000           8           467                   18200000   \n",
       "4      24200000          20           382                   12400000   \n",
       "\n",
       "    commercial_assets_value   luxury_assets_value   bank_asset_value  \\\n",
       "0                  17600000              22700000            8000000   \n",
       "1                   2200000               8800000            3300000   \n",
       "2                   4500000              33300000           12800000   \n",
       "3                   3300000              23300000            7900000   \n",
       "4                   8200000              29400000            5000000   \n",
       "\n",
       "   loan_status  \n",
       "0     Approved  \n",
       "1     Rejected  \n",
       "2     Rejected  \n",
       "3     Rejected  \n",
       "4     Rejected  "
      ]
     },
     "execution_count": 3,
     "metadata": {},
     "output_type": "execute_result"
    }
   ],
   "source": [
    "data.head()"
   ]
  },
  {
   "cell_type": "code",
   "execution_count": 4,
   "id": "f0ba4ef6-ae5d-479b-91af-01a3e9f053f7",
   "metadata": {},
   "outputs": [
    {
     "name": "stdout",
     "output_type": "stream",
     "text": [
      "<class 'pandas.core.frame.DataFrame'>\n",
      "RangeIndex: 4269 entries, 0 to 4268\n",
      "Data columns (total 13 columns):\n",
      " #   Column                     Non-Null Count  Dtype \n",
      "---  ------                     --------------  ----- \n",
      " 0   loan_id                    4269 non-null   int64 \n",
      " 1    no_of_dependents          4269 non-null   int64 \n",
      " 2    education                 4269 non-null   object\n",
      " 3    self_employed             4269 non-null   object\n",
      " 4    income_annum              4269 non-null   int64 \n",
      " 5    loan_amount               4269 non-null   int64 \n",
      " 6    loan_term                 4269 non-null   int64 \n",
      " 7    cibil_score               4269 non-null   int64 \n",
      " 8    residential_assets_value  4269 non-null   int64 \n",
      " 9    commercial_assets_value   4269 non-null   int64 \n",
      " 10   luxury_assets_value       4269 non-null   int64 \n",
      " 11   bank_asset_value          4269 non-null   int64 \n",
      " 12   loan_status               4269 non-null   object\n",
      "dtypes: int64(10), object(3)\n",
      "memory usage: 433.7+ KB\n"
     ]
    }
   ],
   "source": [
    "data.info()"
   ]
  },
  {
   "cell_type": "code",
   "execution_count": 5,
   "id": "c9c7d9c4-5849-4826-84ff-2f202ee91913",
   "metadata": {},
   "outputs": [
    {
     "data": {
      "text/plain": [
       "loan_id                      0\n",
       " no_of_dependents            0\n",
       " education                   0\n",
       " self_employed               0\n",
       " income_annum                0\n",
       " loan_amount                 0\n",
       " loan_term                   0\n",
       " cibil_score                 0\n",
       " residential_assets_value    0\n",
       " commercial_assets_value     0\n",
       " luxury_assets_value         0\n",
       " bank_asset_value            0\n",
       " loan_status                 0\n",
       "dtype: int64"
      ]
     },
     "execution_count": 5,
     "metadata": {},
     "output_type": "execute_result"
    }
   ],
   "source": [
    "data.apply(lambda x: sum(x.isnull()),axis=0)"
   ]
  },
  {
   "cell_type": "code",
   "execution_count": 6,
   "id": "4257c44e-d767-4ac7-9ae5-e2c657bad080",
   "metadata": {},
   "outputs": [],
   "source": [
    "data.columns = data.columns.str.strip()"
   ]
  },
  {
   "cell_type": "code",
   "execution_count": 7,
   "id": "75fa3e90-f654-4d5d-b4b2-2f4ce7efad94",
   "metadata": {},
   "outputs": [],
   "source": [
    "X = data.drop(['loan_status', 'loan_id'], axis=1) "
   ]
  },
  {
   "cell_type": "code",
   "execution_count": 8,
   "id": "2d0fc15f-7615-4631-b271-6f55ed141a88",
   "metadata": {},
   "outputs": [],
   "source": [
    "y = data['loan_status']"
   ]
  },
  {
   "cell_type": "code",
   "execution_count": 9,
   "id": "b81812fb-159e-459a-aa79-d13545814695",
   "metadata": {},
   "outputs": [
    {
     "name": "stdout",
     "output_type": "stream",
     "text": [
      "Target variable distribution:\n"
     ]
    }
   ],
   "source": [
    "print(\"Target variable distribution:\")"
   ]
  },
  {
   "cell_type": "code",
   "execution_count": 10,
   "id": "0229366b-a4ca-4916-a328-acd4a011177d",
   "metadata": {},
   "outputs": [],
   "source": [
    "import pandas as pd\n",
    "from sklearn.model_selection import train_test_split\n",
    "from sklearn.linear_model import LogisticRegression\n",
    "from sklearn.ensemble import RandomForestClassifier\n",
    "from sklearn.tree import DecisionTreeClassifier\n",
    "from sklearn.svm import SVC\n",
    "from sklearn.compose import ColumnTransformer\n",
    "from sklearn.preprocessing import OneHotEncoder, StandardScaler\n",
    "from sklearn.metrics import accuracy_score, classification_report\n",
    "import joblib\n",
    "import matplotlib.pyplot as plt\n"
   ]
  },
  {
   "cell_type": "code",
   "execution_count": 11,
   "id": "e7634ee0-8080-47b2-b3e3-0a703448b90c",
   "metadata": {},
   "outputs": [
    {
     "name": "stdout",
     "output_type": "stream",
     "text": [
      " Approved    0.62216\n",
      " Rejected    0.37784\n",
      "Name: loan_status, dtype: float64\n"
     ]
    }
   ],
   "source": [
    "print(y.value_counts(normalize=True))"
   ]
  },
  {
   "cell_type": "code",
   "execution_count": 12,
   "id": "a31539a2-5d34-4373-83b1-affe9b4f863e",
   "metadata": {},
   "outputs": [
    {
     "data": {
      "text/plain": [
       "['models/preprocessor.pkl']"
      ]
     },
     "execution_count": 12,
     "metadata": {},
     "output_type": "execute_result"
    }
   ],
   "source": [
    "categorical_features = ['education', 'self_employed']\n",
    "numeric_features = X.columns.difference(categorical_features)\n",
    "\n",
    "preprocessor = ColumnTransformer(\n",
    "    transformers=[\n",
    "        ('cat', OneHotEncoder(handle_unknown='ignore'), categorical_features),\n",
    "        ('num', StandardScaler(), numeric_features)\n",
    "    ]\n",
    ")\n",
    "\n",
    "# Apply the preprocessing pipeline to the data\n",
    "X_processed = preprocessor.fit_transform(X)\n",
    "\n",
    "# Save the preprocessor\n",
    "joblib.dump(preprocessor, 'models/preprocessor.pkl')\n"
   ]
  },
  {
   "cell_type": "code",
   "execution_count": 13,
   "id": "76ec9fde-3b40-4581-a9de-f5cf389cbc8b",
   "metadata": {},
   "outputs": [],
   "source": [
    "X_train, X_test, y_train, y_test = train_test_split(X_processed, y, test_size=0.2, random_state=42)\n"
   ]
  },
  {
   "cell_type": "code",
   "execution_count": 14,
   "id": "a65d4c6b-2d35-4bcd-a655-b613b1203fae",
   "metadata": {},
   "outputs": [],
   "source": [
    "models = {\n",
    "    'Logistic Regression': LogisticRegression(),\n",
    "    'Random Forest': RandomForestClassifier(n_estimators=100),\n",
    "    'Decision Tree': DecisionTreeClassifier(),\n",
    "    'SVM': SVC()\n",
    "}\n"
   ]
  },
  {
   "cell_type": "code",
   "execution_count": 15,
   "id": "661e8a1c-1012-4f2b-8b40-7037f337c58e",
   "metadata": {},
   "outputs": [
    {
     "name": "stdout",
     "output_type": "stream",
     "text": [
      "Logistic Regression trained and saved.\n",
      "Random Forest trained and saved.\n",
      "Decision Tree trained and saved.\n",
      "SVM trained and saved.\n"
     ]
    }
   ],
   "source": [
    "for name, model in models.items():\n",
    "    model.fit(X_train, y_train)\n",
    "    joblib.dump(model, f'models/{name}_model.pkl')\n",
    "    print(f'{name} trained and saved.')\n"
   ]
  },
  {
   "cell_type": "code",
   "execution_count": 16,
   "id": "58ad934d-4721-4ef1-8784-c31a4937b69f",
   "metadata": {},
   "outputs": [
    {
     "name": "stdout",
     "output_type": "stream",
     "text": [
      "Logistic Regression Accuracy: 0.905152224824356\n",
      "Logistic Regression Classification Report:\n",
      "              precision    recall  f1-score   support\n",
      "\n",
      "    Approved       0.92      0.93      0.92       536\n",
      "    Rejected       0.88      0.86      0.87       318\n",
      "\n",
      "    accuracy                           0.91       854\n",
      "   macro avg       0.90      0.90      0.90       854\n",
      "weighted avg       0.90      0.91      0.90       854\n",
      "\n",
      "Random Forest Accuracy: 0.9789227166276346\n",
      "Random Forest Classification Report:\n",
      "              precision    recall  f1-score   support\n",
      "\n",
      "    Approved       0.98      0.99      0.98       536\n",
      "    Rejected       0.98      0.96      0.97       318\n",
      "\n",
      "    accuracy                           0.98       854\n",
      "   macro avg       0.98      0.98      0.98       854\n",
      "weighted avg       0.98      0.98      0.98       854\n",
      "\n",
      "Decision Tree Accuracy: 0.9695550351288056\n",
      "Decision Tree Classification Report:\n",
      "              precision    recall  f1-score   support\n",
      "\n",
      "    Approved       0.97      0.98      0.98       536\n",
      "    Rejected       0.96      0.95      0.96       318\n",
      "\n",
      "    accuracy                           0.97       854\n",
      "   macro avg       0.97      0.97      0.97       854\n",
      "weighted avg       0.97      0.97      0.97       854\n",
      "\n",
      "SVM Accuracy: 0.9262295081967213\n",
      "SVM Classification Report:\n",
      "              precision    recall  f1-score   support\n",
      "\n",
      "    Approved       0.95      0.93      0.94       536\n",
      "    Rejected       0.89      0.92      0.90       318\n",
      "\n",
      "    accuracy                           0.93       854\n",
      "   macro avg       0.92      0.92      0.92       854\n",
      "weighted avg       0.93      0.93      0.93       854\n",
      "\n",
      "Best Model: Random Forest with Accuracy: 0.9789227166276346\n"
     ]
    }
   ],
   "source": [
    "# Initialize variables to track best model\n",
    "best_model_name = None\n",
    "best_accuracy = 0.0\n",
    "\n",
    "for name, model in models.items():\n",
    "    y_pred = model.predict(X_test)\n",
    "    accuracy = accuracy_score(y_test, y_pred)\n",
    "    print(f'{name} Accuracy: {accuracy}')\n",
    "    print(f'{name} Classification Report:')\n",
    "    print(classification_report(y_test, y_pred))\n",
    "    if accuracy > best_accuracy:\n",
    "        best_accuracy = accuracy\n",
    "        best_model_name = name\n",
    "\n",
    "# Print the best model based on highest accuracy\n",
    "print(f'Best Model: {best_model_name} with Accuracy: {best_accuracy}')\n"
   ]
  },
  {
   "cell_type": "code",
   "execution_count": 17,
   "id": "bd6df4a9-3de6-475b-953b-0b5cbffbf03b",
   "metadata": {},
   "outputs": [
    {
     "data": {
      "image/png": "[encoded data removed]",
      "text/plain": [
       "<Figure size 1000x600 with 1 Axes>"
      ]
     },
     "metadata": {},
     "output_type": "display_data"
    }
   ],
   "source": [
    "if 'Random Forest' in models:\n",
    "    rf_model = models['Random Forest']\n",
    "    feature_names = preprocessor.transformers_[0][1].get_feature_names_out(categorical_features).tolist() + numeric_features.tolist()\n",
    "    feature_importances = rf_model.feature_importances_\n",
    "\n",
    "    # Plot feature importance\n",
    "    plt.figure(figsize=(10, 6))\n",
    "    plt.barh(feature_names, feature_importances)\n",
    "    plt.xlabel('Feature Importance')\n",
    "    plt.title('Feature Importance for Random Forest')\n",
    "    plt.show()\n"
   ]
  },
  {
   "cell_type": "code",
   "execution_count": 18,
   "id": "62e67b1d-3ae1-4c24-abc7-23287bdafcdd",
   "metadata": {},
   "outputs": [
    {
     "name": "stdout",
     "output_type": "stream",
     "text": [
      "Prediction result: Not Approved\n"
     ]
    }
   ],
   "source": [
    "def test_model(input_data):\n",
    "    # Load model and preprocessor\n",
    "    model = joblib.load(f'models/{best_model_name}_model.pkl')\n",
    "    preprocessor = joblib.load('models/preprocessor.pkl')\n",
    "\n",
    "    # Create DataFrame\n",
    "    input_df = pd.DataFrame(input_data)\n",
    "\n",
    "    # Preprocess the data\n",
    "    input_processed = preprocessor.transform(input_df)\n",
    "\n",
    "    # Predict using the model\n",
    "    prediction = model.predict(input_processed)[0]\n",
    "    prediction_result = 'Approved' if prediction == 1 else 'Not Approved'\n",
    "    return prediction_result\n",
    "\n",
    "# Test input data\n",
    "test_data = {\n",
    "    'no_of_dependents': [1],\n",
    "    'education': ['Graduate'],\n",
    "    'self_employed': ['No'],\n",
    "    'income_annum': [8300000],\n",
    "    'loan_amount': [31800000],\n",
    "    'loan_term': [16],\n",
    "    'cibil_score': [818],\n",
    "    'residential_assets_value': [23400000],\n",
    "    'commercial_assets_value': [7400000],\n",
    "    'luxury_assets_value': [32200000],\n",
    "    'bank_asset_value': [8500000]\n",
    "}\n",
    "\n",
    "print(\"Prediction result:\", test_model(test_data))\n"
   ]
  },
  {
   "cell_type": "code",
   "execution_count": 19,
   "id": "966dbc7b-02ec-4777-80e6-4a31f48ba87d",
   "metadata": {},
   "outputs": [
    {
     "name": "stdout",
     "output_type": "stream",
     "text": [
      "Prediction result for approved example: Not Approved\n"
     ]
    }
   ],
   "source": [
    "# Test input data for Approved prediction\n",
    "test_data_approved = {\n",
    "    'no_of_dependents': [1],\n",
    "    'education': ['Graduate'],\n",
    "    'self_employed': ['No'],\n",
    "    'income_annum': [8300000],\n",
    "    'loan_amount': [31800000],\n",
    "    'loan_term': [16],\n",
    "    'cibil_score': [818],\n",
    "    'residential_assets_value': [23400000],\n",
    "    'commercial_assets_value': [7400000],\n",
    "    'luxury_assets_value': [32200000],\n",
    "    'bank_asset_value': [8500000]\n",
    "}\n",
    "\n",
    "print(\"Prediction result for approved example:\", test_model(test_data_approved))\n"
   ]
  },
  {
   "cell_type": "code",
   "execution_count": 20,
   "id": "0e4f4bee-ba3d-4c85-a76b-b341f4590554",
   "metadata": {},
   "outputs": [
    {
     "name": "stdout",
     "output_type": "stream",
     "text": [
      "Prediction result for approved example: Not Approved\n",
      "Prediction result for not approved example: Not Approved\n"
     ]
    }
   ],
   "source": [
    "def test_model(input_data):\n",
    "    # Load model and preprocessor\n",
    "    model = joblib.load(f'models/{best_model_name}_model.pkl')\n",
    "    preprocessor = joblib.load('models/preprocessor.pkl')\n",
    "\n",
    "    # Create DataFrame\n",
    "    input_df = pd.DataFrame(input_data)\n",
    "\n",
    "    # Preprocess the data\n",
    "    input_processed = preprocessor.transform(input_df)\n",
    "\n",
    "    # Predict using the model\n",
    "    prediction = model.predict(input_processed)[0]\n",
    "    prediction_result = 'Approved' if prediction == 1 else 'Not Approved'\n",
    "    return prediction_result\n",
    "\n",
    "# Test input data for Approved prediction\n",
    "test_data_approved = {\n",
    "    'no_of_dependents': [0],\n",
    "    'education': ['Graduate'],\n",
    "    'self_employed': ['No'],\n",
    "    'income_annum': [12000000],\n",
    "    'loan_amount': [5000000],\n",
    "    'loan_term': [12],\n",
    "    'cibil_score': [850],\n",
    "    'residential_assets_value': [50000000],\n",
    "    'commercial_assets_value': [20000000],\n",
    "    'luxury_assets_value': [10000000],\n",
    "    'bank_asset_value': [20000000]\n",
    "}\n",
    "\n",
    "print(\"Prediction result for approved example:\", test_model(test_data_approved))\n",
    "\n",
    "# Test input data for Not Approved prediction\n",
    "test_data_not_approved = {\n",
    "    'no_of_dependents': [5],\n",
    "    'education': ['Not Graduate'],\n",
    "    'self_employed': ['Yes'],\n",
    "    'income_annum': [100000],\n",
    "    'loan_amount': [5000000],\n",
    "    'loan_term': [60],\n",
    "    'cibil_score': [500],\n",
    "    'residential_assets_value': [100000],\n",
    "    'commercial_assets_value': [50000],\n",
    "    'luxury_assets_value': [0],\n",
    "    'bank_asset_value': [10000]\n",
    "}\n",
    "\n",
    "print(\"Prediction result for not approved example:\", test_model(test_data_not_approved))\n"
   ]
  },
  {
   "cell_type": "code",
   "execution_count": 21,
   "id": "f4cf4226-aace-42a2-bbdf-a5332c229dd4",
   "metadata": {},
   "outputs": [
    {
     "data": {
      "image/png": "[encoded data removed]",
      "text/plain": [
       "<Figure size 1000x600 with 1 Axes>"
      ]
     },
     "metadata": {},
     "output_type": "display_data"
    }
   ],
   "source": [
    "if 'Random Forest' in models:\n",
    "    rf_model = joblib.load('models/Random Forest_model.pkl')\n",
    "    feature_names = preprocessor.transformers_[0][1].get_feature_names_out(categorical_features).tolist() + numeric_features.tolist()\n",
    "    feature_importances = rf_model.feature_importances_\n",
    "\n",
    "    # Plot feature importance\n",
    "    plt.figure(figsize=(10, 6))\n",
    "    plt.barh(feature_names, feature_importances)\n",
    "    plt.xlabel('Feature Importance')\n",
    "    plt.title('Feature Importance for Random Forest')\n",
    "    plt.show()\n"
   ]
  },
  {
   "cell_type": "code",
   "execution_count": 22,
   "id": "35615851-d53a-42fa-a5dc-15608b1e20b3",
   "metadata": {
    "scrolled": true
   },
   "outputs": [
    {
     "name": "stdout",
     "output_type": "stream",
     "text": [
      "Prediction result for approved example: Not Approved\n",
      "Prediction result for not approved example: Not Approved\n"
     ]
    }
   ],
   "source": [
    "def test_model(input_data):\n",
    "    # Load model and preprocessor\n",
    "    model = joblib.load(f'models/{best_model_name}_model.pkl')\n",
    "    preprocessor = joblib.load('models/preprocessor.pkl')\n",
    "\n",
    "    # Create DataFrame\n",
    "    input_df = pd.DataFrame(input_data)\n",
    "\n",
    "    # Preprocess the data\n",
    "    input_processed = preprocessor.transform(input_df)\n",
    "\n",
    "    # Predict using the model\n",
    "    prediction = model.predict(input_processed)[0]\n",
    "    prediction_result = 'Approved' if prediction == 1 else 'Not Approved'\n",
    "    return prediction_result\n",
    "\n",
    "# Test input data for Approved prediction\n",
    "test_data_approved = {\n",
    "    'no_of_dependents': [0],\n",
    "    'education': ['Graduate'],\n",
    "    'self_employed': ['No'],\n",
    "    'income_annum': [20000000],\n",
    "    'loan_amount': [1000000],\n",
    "    'loan_term': [12],\n",
    "    'cibil_score': [850],  # High cibil_score\n",
    "    'residential_assets_value': [100000000],\n",
    "    'commercial_assets_value': [50000000],\n",
    "    'luxury_assets_value': [30000000],\n",
    "    'bank_asset_value': [50000000]\n",
    "}\n",
    "\n",
    "print(\"Prediction result for approved example:\", test_model(test_data_approved))\n",
    "\n",
    "# Test input data for Not Approved prediction\n",
    "test_data_not_approved = {\n",
    "    'no_of_dependents': [5],\n",
    "    'education': ['Not Graduate'],\n",
    "    'self_employed': ['Yes'],\n",
    "    'income_annum': [100000],\n",
    "    'loan_amount': [5000000],\n",
    "    'loan_term': [60],\n",
    "    'cibil_score': [500],  # Low cibil_score\n",
    "    'residential_assets_value': [100000],\n",
    "    'commercial_assets_value': [50000],\n",
    "    'luxury_assets_value': [0],\n",
    "    'bank_asset_value': [10000]\n",
    "}\n",
    "\n",
    "print(\"Prediction result for not approved example:\", test_model(test_data_not_approved))\n"
   ]
  },
  {
   "cell_type": "code",
   "execution_count": 23,
   "id": "ebde9fd6-3849-4b42-bb1d-878c864ed7a2",
   "metadata": {},
   "outputs": [
    {
     "name": "stdout",
     "output_type": "stream",
     "text": [
      "Prediction result for approved example: Not Approved\n"
     ]
    }
   ],
   "source": [
    "# Test input data for Approved prediction\n",
    "test_data_approved = {\n",
    "    'no_of_dependents': [0],\n",
    "    'education': ['Graduate'],\n",
    "    'self_employed': ['No'],\n",
    "    'income_annum': [30000000],\n",
    "    'loan_amount': [1000000],\n",
    "    'loan_term': [12],\n",
    "    'cibil_score': [900],  # Very high cibil_score\n",
    "    'residential_assets_value': [100000000],\n",
    "    'commercial_assets_value': [50000000],\n",
    "    'luxury_assets_value': [30000000],\n",
    "    'bank_asset_value': [50000000]\n",
    "}\n",
    "\n",
    "print(\"Prediction result for approved example:\", test_model(test_data_approved))\n"
   ]
  },
  {
   "cell_type": "code",
   "execution_count": null,
   "id": "1c59be58-ab10-4e51-9f85-0740041b23ba",
   "metadata": {},
   "outputs": [],
   "source": []
  }
 ],
 "metadata": {
  "kernelspec": {
   "display_name": "Python 3 (ipykernel)",
   "language": "python",
   "name": "python3"
  },
  "language_info": {
   "codemirror_mode": {
    "name": "ipython",
    "version": 3
   },
   "file_extension": ".py",
   "mimetype": "text/x-python",
   "name": "python",
   "nbconvert_exporter": "python",
   "pygments_lexer": "ipython3",
   "version": "3.10.12"
  }
 },
 "nbformat": 4,
 "nbformat_minor": 5
}
