{
 "cells": [
  {
   "cell_type": "code",
   "execution_count": 2,
   "id": "917ffbeb-45a9-42bc-98b3-e8e499fe0701",
   "metadata": {
    "scrolled": true
   },
   "outputs": [
    {
     "name": "stdout",
     "output_type": "stream",
     "text": [
      "Accuracy: 0.7886178861788617\n",
      "\n",
      "Classification Report:\n",
      "              precision    recall  f1-score   support\n",
      "\n",
      "           N       0.95      0.42      0.58        43\n",
      "           Y       0.76      0.99      0.86        80\n",
      "\n",
      "    accuracy                           0.79       123\n",
      "   macro avg       0.85      0.70      0.72       123\n",
      "weighted avg       0.83      0.79      0.76       123\n",
      "\n",
      "\n",
      "Cross-validation Accuracy: 0.8078368652538984\n",
      "\n",
      "ROC AUC Score: 0.7491279069767443\n"
     ]
    }
   ],
   "source": [
    "import pandas as pd\n",
    "from sklearn.model_selection import train_test_split\n",
    "from sklearn.preprocessing import StandardScaler, OneHotEncoder\n",
    "from sklearn.impute import SimpleImputer\n",
    "from sklearn.compose import ColumnTransformer\n",
    "from sklearn.pipeline import Pipeline\n",
    "from sklearn.linear_model import LogisticRegression\n",
    "from sklearn.metrics import classification_report, accuracy_score, roc_auc_score\n",
    "from sklearn.model_selection import cross_val_score\n",
    "\n",
    "# Load dataset\n",
    "df = pd.read_csv(\"train.csv\")\n",
    "# Assuming 'df' is your DataFrame containing the dataset\n",
    "\n",
    "# Define features and target\n",
    "X = df.drop(['Loan_ID', 'Loan_Status'], axis=1)\n",
    "y = df['Loan_Status']\n",
    "\n",
    "# Split data into training and testing sets\n",
    "X_train, X_test, y_train, y_test = train_test_split(X, y, test_size=0.2, random_state=42)\n",
    "\n",
    "# Preprocessing pipeline\n",
    "numeric_features = ['ApplicantIncome', 'CoapplicantIncome', 'LoanAmount', 'Loan_Amount_Term', 'Credit_History']\n",
    "categorical_features = ['Gender', 'Married', 'Dependents', 'Education', 'Self_Employed', 'Property_Area']\n",
    "\n",
    "numeric_transformer = Pipeline(steps=[\n",
    "    ('imputer', SimpleImputer(strategy='median')),\n",
    "    ('scaler', StandardScaler())\n",
    "])\n",
    "\n",
    "categorical_transformer = Pipeline(steps=[\n",
    "    ('imputer', SimpleImputer(strategy='most_frequent')),\n",
    "    ('onehot', OneHotEncoder(handle_unknown='ignore'))\n",
    "])\n",
    "\n",
    "preprocessor = ColumnTransformer(\n",
    "    transformers=[\n",
    "        ('num', numeric_transformer, numeric_features),\n",
    "        ('cat', categorical_transformer, categorical_features)\n",
    "    ])\n",
    "\n",
    "# Append classifier to preprocessing pipeline\n",
    "clf = Pipeline(steps=[('preprocessor', preprocessor),\n",
    "                      ('classifier', LogisticRegression())])\n",
    "\n",
    "# Fit the model\n",
    "clf.fit(X_train, y_train)\n",
    "\n",
    "# Predict on test data\n",
    "y_pred = clf.predict(X_test)\n",
    "\n",
    "# Model evaluation\n",
    "print(\"Accuracy:\", accuracy_score(y_test, y_pred))\n",
    "print(\"\\nClassification Report:\")\n",
    "print(classification_report(y_test, y_pred))\n",
    "\n",
    "# Cross-validation\n",
    "cv_scores = cross_val_score(clf, X, y, cv=5, scoring='accuracy')\n",
    "print(\"\\nCross-validation Accuracy:\", cv_scores.mean())\n",
    "\n",
    "# ROC AUC score\n",
    "y_pred_proba = clf.predict_proba(X_test)[:,1]  # Probability of class 1 (loan approval)\n",
    "print(\"\\nROC AUC Score:\", roc_auc_score(y_test, y_pred_proba))\n"
   ]
  },
  {
   "cell_type": "code",
   "execution_count": 3,
   "id": "1b188b0b-1950-48be-bc88-030693909ea6",
   "metadata": {},
   "outputs": [
    {
     "name": "stdout",
     "output_type": "stream",
     "text": [
      "Input Data:\n",
      "  Gender Married Dependents Education Self_Employed  ApplicantIncome  \\\n",
      "0   Male     Yes          1  Graduate            No             5000   \n",
      "\n",
      "   CoapplicantIncome  LoanAmount  Loan_Amount_Term  Credit_History  \\\n",
      "0               2000         300               360             1.0   \n",
      "\n",
      "  Property_Area  \n",
      "0         Urban  \n"
     ]
    }
   ],
   "source": [
    "import pandas as pd\n",
    "\n",
    "# Example input data\n",
    "input_data = {\n",
    "    'Gender': ['Male'],\n",
    "    'Married': ['Yes'],\n",
    "    'Dependents': ['1'],\n",
    "    'Education': ['Graduate'],\n",
    "    'Self_Employed': ['No'],\n",
    "    'ApplicantIncome': [5000],\n",
    "    'CoapplicantIncome': [2000],\n",
    "    'LoanAmount': [300],\n",
    "    'Loan_Amount_Term': [360],\n",
    "    'Credit_History': [1.0],\n",
    "    'Property_Area': ['Urban']\n",
    "}\n",
    "\n",
    "# Create a DataFrame from the input data\n",
    "input_df = pd.DataFrame(input_data)\n",
    "\n",
    "# Print the input DataFrame\n",
    "print(\"Input Data:\")\n",
    "print(input_df)\n"
   ]
  },
  {
   "cell_type": "code",
   "execution_count": 4,
   "id": "7fc722b3-6078-45fb-96ca-e58328214f71",
   "metadata": {},
   "outputs": [
    {
     "name": "stdout",
     "output_type": "stream",
     "text": [
      "\n",
      "The loan is predicted to be Approved (Y).\n"
     ]
    }
   ],
   "source": [
    "# Predict loan approval for the input data\n",
    "predicted_loan_status = clf.predict(input_df)\n",
    "\n",
    "# Print the prediction\n",
    "if predicted_loan_status[0] == 'Y':\n",
    "    print(\"\\nThe loan is predicted to be Approved (Y).\")\n",
    "else:\n",
    "    print(\"\\nThe loan is predicted to be Not Approved (N).\")\n"
   ]
  },
  {
   "cell_type": "code",
   "execution_count": 5,
   "id": "57781606-e909-436c-8fa6-36907c7b5108",
   "metadata": {},
   "outputs": [
    {
     "name": "stdout",
     "output_type": "stream",
     "text": [
      "Input Data (Not Approved):\n",
      "   Gender Married Dependents     Education Self_Employed  ApplicantIncome  \\\n",
      "0  Female      No          0  Not Graduate           Yes             2500   \n",
      "\n",
      "   CoapplicantIncome  LoanAmount  Loan_Amount_Term  Credit_History  \\\n",
      "0               1500         200               360             0.0   \n",
      "\n",
      "  Property_Area  \n",
      "0         Rural  \n",
      "\n",
      "The loan is predicted to be Not Approved (N).\n"
     ]
    }
   ],
   "source": [
    "# Example input data for Not Approved prediction\n",
    "input_data_not_approved = {\n",
    "    'Gender': ['Female'],\n",
    "    'Married': ['No'],\n",
    "    'Dependents': ['0'],\n",
    "    'Education': ['Not Graduate'],\n",
    "    'Self_Employed': ['Yes'],\n",
    "    'ApplicantIncome': [2500],\n",
    "    'CoapplicantIncome': [1500],\n",
    "    'LoanAmount': [200],\n",
    "    'Loan_Amount_Term': [360],\n",
    "    'Credit_History': [0.0],\n",
    "    'Property_Area': ['Rural']\n",
    "}\n",
    "\n",
    "# Create a DataFrame from the input data\n",
    "input_df_not_approved = pd.DataFrame(input_data_not_approved)\n",
    "\n",
    "# Print the input DataFrame\n",
    "print(\"Input Data (Not Approved):\")\n",
    "print(input_df_not_approved)\n",
    "\n",
    "# Predict loan approval for the input data\n",
    "predicted_loan_status_not_approved = clf.predict(input_df_not_approved)\n",
    "\n",
    "# Print the prediction\n",
    "if predicted_loan_status_not_approved[0] == 'Y':\n",
    "    print(\"\\nThe loan is predicted to be Approved (Y).\")\n",
    "else:\n",
    "    print(\"\\nThe loan is predicted to be Not Approved (N).\")\n"
   ]
  },
  {
   "cell_type": "code",
   "execution_count": null,
   "id": "7d96cc36-984b-4ad5-838e-463a5d76a338",
   "metadata": {},
   "outputs": [],
   "source": []
  }
 ],
 "metadata": {
  "kernelspec": {
   "display_name": "Python 3 (ipykernel)",
   "language": "python",
   "name": "python3"
  },
  "language_info": {
   "codemirror_mode": {
    "name": "ipython",
    "version": 3
   },
   "file_extension": ".py",
   "mimetype": "text/x-python",
   "name": "python",
   "nbconvert_exporter": "python",
   "pygments_lexer": "ipython3",
   "version": "3.10.12"
  }
 },
 "nbformat": 4,
 "nbformat_minor": 5
}
